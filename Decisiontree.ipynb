{
 "cells": [
  {
   "cell_type": "code",
   "execution_count": 2,
   "metadata": {},
   "outputs": [],
   "source": [
    "# importing necessary modeules\n",
    "import pydotplus\n",
    "from sklearn import tree\n",
    "from sklearn.datasets import load_iris\n",
    "from sklearn.metrics import classification_report\n",
    "from sklearn.model_selection import train_test_split\n",
    "import collections"
   ]
  },
  {
   "cell_type": "code",
   "execution_count": 3,
   "metadata": {},
   "outputs": [],
   "source": [
    "# defining custom datasets and splitting into train and validation\n",
    "X = [[165,19],[175,32],[136,35],[174,65],[141,28],[176,15],[131,32],\n",
    "[166,6],[128,32],[179,10],[136,34],[186,2],[126,25],[176,28],[112,38],\n",
    "[169,9],[171,36],[116,25],[196,25]]\n",
    "\n",
    "Y = ['Man','Woman','Woman','Man','Woman','Man','Woman','Man','Woman',\n",
    "'Man','Woman','Man','Woman','Woman','Woman','Man','Woman','Woman','Man']\n",
    "data_feature_names = ['height','length of hair']\n",
    "\n",
    "X_train, X_test, Y_train, Y_test =train_test_split(X, Y, test_size=0.40, random_state=5)"
   ]
  },
  {
   "cell_type": "code",
   "execution_count": 4,
   "metadata": {},
   "outputs": [],
   "source": [
    "# Actual training of model\n",
    "model = tree.DecisionTreeClassifier()\n",
    "model = model.fit(X,Y)"
   ]
  },
  {
   "cell_type": "code",
   "execution_count": 6,
   "metadata": {},
   "outputs": [
    {
     "name": "stdout",
     "output_type": "stream",
     "text": [
      "['Woman']\n"
     ]
    }
   ],
   "source": [
    "# prediction\n",
    "prediction = model.predict([[165,32]])\n",
    "print(prediction)"
   ]
  },
  {
   "cell_type": "code",
   "execution_count": 25,
   "metadata": {},
   "outputs": [
    {
     "data": {
      "text/plain": [
       "True"
      ]
     },
     "execution_count": 25,
     "metadata": {},
     "output_type": "execute_result"
    }
   ],
   "source": [
    "dot_data = tree.export_graphviz(model, feature_names = data_feature_names, out_file =None ,filled = True, rounded = True)\n",
    "graph = pydotplus.graph_from_dot_data(dot_data)\n",
    "colors = ('orange', 'yellow')\n",
    "edges = collections.defaultdict(list)\n",
    "\n",
    "for edge in graph.get_edge_list():\n",
    "    edges[edge.get_source()].append(int(edge.get_destination()))\n",
    "for edge in edges:\n",
    "    edges[edge].sort()\n",
    "for i in range(2):\n",
    "    dest = graph.get_node(str(edges[edge][i]))[0]\n",
    "dest.set_fillcolor(colors[i])\n",
    "graph.write_png('Decisiontree16.png') \n",
    "\n",
    "    "
   ]
  },
  {
   "cell_type": "code",
   "execution_count": null,
   "metadata": {},
   "outputs": [],
   "source": []
  },
  {
   "cell_type": "code",
   "execution_count": null,
   "metadata": {},
   "outputs": [],
   "source": []
  }
 ],
 "metadata": {
  "kernelspec": {
   "display_name": "Python 3",
   "language": "python",
   "name": "python3"
  },
  "language_info": {
   "codemirror_mode": {
    "name": "ipython",
    "version": 3
   },
   "file_extension": ".py",
   "mimetype": "text/x-python",
   "name": "python",
   "nbconvert_exporter": "python",
   "pygments_lexer": "ipython3",
   "version": "3.6.8"
  }
 },
 "nbformat": 4,
 "nbformat_minor": 2
}
